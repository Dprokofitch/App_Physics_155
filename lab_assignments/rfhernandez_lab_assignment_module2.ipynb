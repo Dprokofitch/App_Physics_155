{
 "cells": [
  {
   "cell_type": "markdown",
   "metadata": {
    "id": "G0BcK0H_G1Iu"
   },
   "source": [
    "# **AP155 Lab Assignment**\n",
    "## Module 2: Solution of Linear and Nonlinear Equations\n",
    "\n",
    "_Instructions_: Answer each problem as completely as you can. Discuss **all** your answers as clearly and concisely as possible.\n",
    "\n",
    "_Scoring Criteria_: 50% - *correctness of code*; 50% - *discussion of the code and results*. Maximum score is **100 points**.\n",
    "\n"
   ]
  },
  {
   "cell_type": "markdown",
   "metadata": {
    "id": "PeHZ9kP8JaVR"
   },
   "source": [
    "### Student Information\n",
    "\n",
    "_Full Name (Last Name, First Name)_: Hernandez, Red Christian \\\n",
    "_Student No._: 2022-03646\\\n",
    "_Section_: THV-TX-2"
   ]
  },
  {
   "cell_type": "markdown",
   "metadata": {
    "id": "Hc183co-J4eI"
   },
   "source": [
    "### Submission Information\n",
    "\n",
    "_Date and Time Submitted (most recent upload)_: **3:35 PM - 06/10/2024**\n",
    "\n",
    "**HONOR PLEDGE** I affirm that I have upheld the highest principles of honesty and integrity in my academic work and that this lab assignment is my own work.\n",
    "\n",
    "**Red Christian F. Hernandez**"
   ]
  },
  {
   "cell_type": "markdown",
   "metadata": {
    "id": "4LUwfsfMBmvd"
   },
   "source": [
    "### Grading Information (c/o Lab Instructor)\n",
    "\n",
    "TOTAL SCORE: <font color='red'>**88/100**</font>\n",
    "\n",
    "Score breakdown:\n",
    "* Problem 1 - <font color='red'>**24/30**</font>\n",
    "* Problem 2 - <font color='red'>**24/30**</font>\n",
    "* Problem 3 - <font color='red'>**40/40**</font>\n",
    "\n",
    "<font color='red'>**signed GC Belinario**</font>"
   ]
  },
  {
   "cell_type": "markdown",
   "metadata": {
    "id": "kBX9EyMLOnXj"
   },
   "source": [
    "### PROBLEM 1\n",
    "\n",
    "**Solve for eigenvalues and eigenvectors of a symmetric matrix**\n",
    "\n",
    "1. Use numpy's $\\tt linalg$ package to find the eigenvalues and eigenvectors of the ff. symmetrix matrix *(15 pts.)*:\n",
    "\n",
    "$ \\begin{equation}\n",
    "{\\bf A} =\n",
    "\\begin{pmatrix}\n",
    "8 & -2 & -20 \\\\\n",
    "-2 & -3 & -9 \\\\\n",
    "-20 & -9 & -3\n",
    "\\end{pmatrix} \\end{equation} $\n",
    "\n",
    "2. Check your answer numerically; that is, check that $\\bf AV = VD$, where the $N$ x $N$ matrix $\\bf V$ has the eigenvectors as its columns and $\\bf D$ is the diagonal matrix with the eigenvalues $\\lambda_i$ as its diagonal entries. *(15 pts.)*"
   ]
  },
  {
   "cell_type": "code",
   "execution_count": null,
   "metadata": {
    "colab": {
     "base_uri": "https://localhost:8080/"
    },
    "id": "GABjwlXCR97i",
    "outputId": "326483af-5ab1-4518-a865-976d3e062b13"
   },
   "outputs": [
    {
     "name": "stdout",
     "output_type": "stream",
     "text": [
      "the eigenvalues are:\n",
      "[-21.99606195   0.16021522  23.83584674]\n",
      "\n",
      "the eigenvectors are:\n",
      "[[ 0.52496527  0.36793396 -0.76748685]\n",
      " [ 0.40892672 -0.89987151 -0.15169114]\n",
      " [ 0.74645187  0.2342133   0.62285932]]\n",
      "\n",
      "the eigenvalues in a diagonal matrix are:\n",
      "[[-21.99606195   0.           0.        ]\n",
      " [  0.           0.16021522   0.        ]\n",
      " [  0.           0.          23.83584674]]\n",
      "\n",
      "the matrix multiplication of the given matrix and the eigenvector matrix is:\n",
      "[[-11.54716868   0.05894862 -18.29369893]\n",
      " [ -8.99477756  -0.14417311  -3.61568676]\n",
      " [-16.4190016    0.03752454  14.8463793 ]]\n",
      "\n",
      "the matrix multiplication of the eigenvectors and the eigenvalues in a diagonal matrix is: \n",
      "[[-11.54716868   0.05894862 -18.29369893]\n",
      " [ -8.99477756  -0.14417311  -3.61568676]\n",
      " [-16.4190016    0.03752454  14.8463793 ]]\n",
      "\n",
      "3.1023925402670955e-16\n",
      "3.1023925402670955e-16\n"
     ]
    }
   ],
   "source": [
    "## PROBLEM 1\n",
    "\n",
    "import numpy as np # we first import numpy as np to have access to its library\n",
    "import numpy.linalg as LA # we import numpy.linalg as LA to have access to different linear algebra operations\n",
    "\n",
    "# we define the given array as:\n",
    "A = np.array([[8,-2,-20],\n",
    "           [-2,-3,-9],\n",
    "           [-20,-9,-3]])\n",
    "# we utilize the eigh() function in order to compute for the eigenvalues of matrix A\n",
    "# with x containing the eigenvalues of matrix A\n",
    "# and with V containing the corresponding eigenvectors\n",
    "x,V = LA.eigh(A)\n",
    "\n",
    "# we print out eigenvalues and eigenvectors with its corresponding labels\n",
    "print(\"the eigenvalues are:\")\n",
    "print(f'{x}\\n')\n",
    "print(\"the eigenvectors are:\")\n",
    "print(f'{V}\\n')\n",
    "\n",
    "# we make a diagonal matrix from the eigenvalues we computed earlier and then print it for reference\n",
    "print(\"the eigenvalues in a diagonal matrix are:\")\n",
    "D = np.diag(x)\n",
    "print(f'{D}\\n')\n",
    "\n",
    "# we define AV as the matrix multiplication of matrix A and matrix V, we utilize the dot() function from the numpy library\n",
    "# and print the results as needed\n",
    "AV = np.dot(A,V)\n",
    "print(\"the matrix multiplication of the given matrix and the eigenvector matrix is:\")\n",
    "print(f'{AV}\\n')\n",
    "\n",
    "# we define VD as the matrix multiplication of matrix V and matrix D, we also utilize the dot() function from the numpy library\n",
    "# and print the results as needed\n",
    "VD = np.dot(V,D)\n",
    "print(\"the matrix multiplication of the eigenvectors and the eigenvalues in a diagonal matrix is: \")\n",
    "print(f'{VD}\\n')\n",
    "\n",
    "# since we are utilizing numerical methods, there will always be approximation errors in making computations due to the limitaions of a computer\n",
    "# thus we have to compute for the percent error of the norms of the computed matrix in order to prove that the given dicrepancy is small enough\n",
    "# to be counted as true\n",
    "pct_error1 = LA.norm(np.dot(A,V) - np.dot(V,D))/LA.norm(np.dot(A,V))\n",
    "print(pct_error1)\n",
    "pct_error2 = LA.norm(np.dot(V,D)-np.dot(A,V))/LA.norm(np.dot(V,D))\n",
    "print(pct_error2)"
   ]
  },
  {
   "cell_type": "markdown",
   "metadata": {},
   "source": [
    "<font color=red> The reported results lack discussions. </font>"
   ]
  },
  {
   "cell_type": "markdown",
   "metadata": {},
   "source": [
    "<font color=red>Correctness of Code: 15/15</font> \\\n",
    "<font color=red>Discussion of Code and Results: 9/15 </font>"
   ]
  },
  {
   "cell_type": "markdown",
   "metadata": {
    "id": "HceOjNu-VfN9"
   },
   "source": [
    "### PROBLEM 2\n",
    "\n",
    "**Solve a nonlinear equation using the relaxation method**\n",
    "\n",
    "Consider the equation $x=1- e^{-cx}$, where $c$ is a known parameter and $x$ is unknown. This equation arises in a variety of situations, including the physics of contact processes, mathematical models of epidemics, and the theory of random graphs.\n",
    "\n",
    "1. Write a program to solve this equation for $x$ using the relaxation method for the case $c = 2$. Calculate your solution to an accuracy of at least $10^{-6}$. *(10 pts.)*\n",
    "\n",
    "2. Modify your program to calculate the solution for values of $c$ from 0 to 3 in steps of 0.01. *(10 pts.)*\n",
    "\n",
    "3. Make a plot of $x$ as a function of $c$. Describe the different regimes that you see. *(10 pts.)*"
   ]
  },
  {
   "cell_type": "code",
   "execution_count": 6,
   "metadata": {
    "colab": {
     "base_uri": "https://localhost:8080/",
     "height": 489
    },
    "id": "p28JF-OQYock",
    "outputId": "d9bbf8a7-00bc-4011-9c7a-7398b0d23ddc"
   },
   "outputs": [
    {
     "name": "stdout",
     "output_type": "stream",
     "text": [
      "the x value for the given equation for the case c = 2 is x = 0.7984747083247583\n"
     ]
    },
    {
     "data": {
      "image/png": "[encoded data removed]",
      "text/plain": [
       "<Figure size 640x480 with 1 Axes>"
      ]
     },
     "metadata": {},
     "output_type": "display_data"
    }
   ],
   "source": [
    "## PROBLEM 2\n",
    "\n",
    "import math # we import math library to have access to different mathematical functions\n",
    "import numpy as np # we import numpy to have access to its useful library\n",
    "import matplotlib.pyplot as plt # we import matplotlib.pylot in order to have the ability to plot our findings\n",
    "\n",
    "# we define the given function in the problem as a function of (x and c)\n",
    "def f(x, c):\n",
    "  return 1-math.exp(-c*x)\n",
    "\n",
    "# we define the error tolerance for the covergence given in the problem as E\n",
    "E = 1*math.exp(-6)\n",
    "\n",
    "# we define the relaxation method as the following:\n",
    "def relx(x,c,E): # the relaxation method takes in 3 values for its function, x and c are quantities in the given function\n",
    "                 # whilst E is the parameter for the error tolerance\n",
    "  x0 = x # we set an intial guess for the value\n",
    "  x1 = f(x, c) # it sets out to apply the initial value of x to the given function\n",
    "  while (abs(x1 - x0)) > E: # the loop continues to run until the difference between the absolute value of the current and previous estimates\n",
    "                            # of the solution is smaller than the error tolerance\n",
    "    x0, x1 = x1, f(x1, c) # we update the previous estimate of x0 with x1 and x1 with the estimated value plugged in the function\n",
    "                          # this iterative process gives a solution that converges closer and closer to the actual solution\n",
    "  return x1 # once we satisfy the error tolerance requirement, we finally retrive the value\n",
    "\n",
    "# the function for the relaxation method is called with intial value for x set to 1, c set to 2 as wanted\n",
    "# in the problem and error tolerance as E.\n",
    "# the results is then printed out a floating string together with a label\n",
    "print(f'the x value for the given equation for the case c = 2 is x = {relx(1, 2, E)}')\n",
    "\n",
    "\n",
    "c = np.linspace(0, 3, 300+1) # c generates an array with 301 evenly spaces values from 0 to 3\n",
    "s = np.array([relx(1, i, E) for i in c]) # we compute the solution to x with different corresponding values of c in the given range\n",
    "                                         # applying the relx() function to each value of c and storing it all in an array\n",
    "\n",
    "plt.plot(c, s, label='relaxation method solution') # we create a plot with parameters c -> x-axis and x -> y-axis\n",
    "plt.xlabel(\"c\") # we label the x axis as c\n",
    "plt.ylabel(\"x\") # we label the y axis as x\n",
    "plt.title(\"Solution for x of x = 1 - e^(-cx) for c = 2\") # we label the title of the graph as the following\n",
    "plt.grid() # we show a grid for given graph for better visibility of results\n",
    "plt.legend() # we show a simple legend for the single output\n",
    "plt.show() # we show the graph\n",
    "\n",
    "# the equation shows a nonlinear relationship between x and c and shows that e^-cx decays exponentially\n",
    "# thus causing the solution to asymptotically approach 1 as c continues to increase in the given equation"
   ]
  },
  {
   "cell_type": "markdown",
   "metadata": {},
   "source": [
    "<font color=red> The reported result lacks discussion of the different regimes seen in the plot. Moreover, the plot must be a scatter plot since discrete samples are being dealt upon. The plot title is also inaccurate since the plot was supposed to show solutions for different values of the parameter </font> $c$."
   ]
  },
  {
   "cell_type": "markdown",
   "metadata": {},
   "source": [
    "<font color=red>Correctness of Code: 15/15</font> \\\n",
    "<font color=red>Discussion of Code and Results: 9/15 </font>"
   ]
  },
  {
   "cell_type": "markdown",
   "metadata": {
    "id": "BY5x-mZsYoqG"
   },
   "source": [
    "### PROBLEM 3\n",
    "\n",
    "**Physics Application: Calculating the Lagrange point**\n",
    "\n",
    "_Refer to Exercise 6.16 of the Newman text._ The $L_1$ Lagrange point is the point between the Earth and the Moon at which a satellite will orbit the Earth in perfect synchrony with the Moon, staying always in between the two.\n",
    "\n",
    "Assuming circular orbits, and assuming that the Earth is much more massive than either the Moon or the satellite, the distance $r$ from the center of the Earth to the $L_1$ point satisfies\n",
    "$$ \\begin{equation}\n",
    "\\frac{GM}{r^2} - \\frac{Gm}{(R-r)^2} = \\omega^2 r,\n",
    "\\end{equation} $$\n",
    "where $R$ is the distance from the Earth to the Moon, $M$ and $m$ are the Earth and Moon masses, $G$ is Newton's gravitational constant, and $\\omega$ is the angular velocity of both the Moon and the satellite."
   ]
  },
  {
   "cell_type": "markdown",
   "metadata": {
    "id": "LlDDXIZ46CKU"
   },
   "source": [
    "Use Newton's method to solve for the distance r from the Earth to the $L_1$ point. Compute a solution accurate to at least four significant figures."
   ]
  },
  {
   "cell_type": "code",
   "execution_count": 2,
   "metadata": {
    "colab": {
     "base_uri": "https://localhost:8080/"
    },
    "id": "Jiu5YAx6aMmq",
    "outputId": "d841731c-71b7-48bb-f8f5-57bf367b5e3e"
   },
   "outputs": [
    {
     "name": "stdout",
     "output_type": "stream",
     "text": [
      "326045071.66535544\n"
     ]
    }
   ],
   "source": [
    "# PROBLEM 3\n",
    "\n",
    "# we first define given constants in the problem\n",
    "G = 6.674e-11\n",
    "M = 5.974e24\n",
    "m = 7.348e22\n",
    "R = 3.844e8\n",
    "w = 2.662e-6\n",
    "\n",
    "# we define a error tolerance for the problem accurate to at least 4 significant figures\n",
    "E = 10e-4\n",
    "\n",
    "# we first define the f(x) = 0 in the given equation above as required by the newton rhapson method by\n",
    "# putting all of the elements of the equation into one side of the equation\n",
    "def f(r):\n",
    "  return G*M/r**2 - G*m/(R-r)**2 - w**2*r # thus the equation is defined as follows\n",
    "\n",
    "# we then define the derivative of the previous functions as follows\n",
    "def df(r):\n",
    "  return -2*G*M/r**3 - 2*G*m/(R-r)**3 - w**2\n",
    "\n",
    "# we then define the newton rhapson method as follows:\n",
    "def newtons_method(r, E): # we define a function named newtons_method() that takes in value r (the intial approximation) and E (the error tolerance)\n",
    "  r0 = r # we initialize an initial guess for the value\n",
    "  r1 = r-f(r)/df(r) # we then get that approximation of the new value using newtons method by the given formula\n",
    "\n",
    " # the loop will continue to iterate with r1 getting the values of the newly estimated value using the newton rhapson formula while r0 holds the previous value of r1\n",
    " # until the difference of the absolute value r1 and r0 is smaller than the error tolerance\n",
    "  while (abs(r1 - r0) > E):\n",
    "    r1, r0 = r1 - f(r1)/df(r1), r1\n",
    "  return r1 # once we satisfy the requirement we finally retrive the value of r1\n",
    "\n",
    "# we then utilize our newly defined function newtons_method() to solve the given problem with an initial guess of 10000 and an error tolerance of E\n",
    "print(newtons_method(10000, E))\n",
    "\n",
    "# result approximately shows a value of 3.26 x 10^8 m which is relatively closer to earth than to the moon thus\n",
    "# showing that the area where the balancing point between the gravitational attraction of the moon and earth cancelling and centrifugal force\n",
    "\n",
    "# we could show a fair guess that the answer is right considering that the gravitational force of the earth is much stronger than the moon\n",
    "# so it would make much more sense of the langrange point to be much farther from the earth and closer to the moon to make up for the lack of magnitude in gravitational force\n"
   ]
  },
  {
   "cell_type": "markdown",
   "metadata": {},
   "source": [
    "<font color=red>Correctness of Code: 20/20</font> \\\n",
    "<font color=red>Discussion of Code and Results: 20/20 </font>"
   ]
  }
 ],
 "metadata": {
  "colab": {
   "provenance": []
  },
  "kernelspec": {
   "display_name": "base",
   "language": "python",
   "name": "python3"
  },
  "language_info": {
   "codemirror_mode": {
    "name": "ipython",
    "version": 3
   },
   "file_extension": ".py",
   "mimetype": "text/x-python",
   "name": "python",
   "nbconvert_exporter": "python",
   "pygments_lexer": "ipython3",
   "version": "3.12.2"
  }
 },
 "nbformat": 4,
 "nbformat_minor": 0
}
