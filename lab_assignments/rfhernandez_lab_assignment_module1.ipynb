{
  "nbformat": 4,
  "nbformat_minor": 0,
  "metadata": {
    "colab": {
      "provenance": []
    },
    "kernelspec": {
      "name": "python3",
      "display_name": "Python 3"
    }
  },
  "cells": [
    {
      "cell_type": "markdown",
      "metadata": {
        "id": "G0BcK0H_G1Iu"
      },
      "source": [
        "# **AP155 Lab Assignment**\n",
        "## Module 1: Integrals and Derivatives\n",
        "\n",
        "_Instructions_: Answer each problem as completely as you can. Discuss **all** your answers as clearly and concisely as possible.\n",
        "\n",
        "_Scoring Criteria_: 50% - *correctness of code*; 50% - *discussion of the code and results*. Maximum score is **100 points**.\n",
        "\n",
        "\n"
      ]
    },
    {
      "cell_type": "markdown",
      "metadata": {
        "id": "PeHZ9kP8JaVR"
      },
      "source": [
        "### Student Information\n",
        "\n",
        "_Full Name (Last Name, First Name)_: Hernandez, Red Christian\\\n",
        "_Student No._: 2022-03646 \\\n",
        "_Section_: THV-TX-2 \\\n"
      ]
    },
    {
      "cell_type": "markdown",
      "metadata": {
        "id": "Hc183co-J4eI"
      },
      "source": [
        "### Submission Information\n",
        "\n",
        "_Date and Time Submitted (most recent upload)_: 09/18/2024 6:05pm\n",
        "\n",
        "**HONOR PLEDGE** I affirm that I have upheld the highest principles of honesty and integrity in my academic work and that this lab assignment is my own work.\n",
        "\n",
        "**Red Christian F. Hernandez**"
      ]
    },
    {
      "cell_type": "markdown",
      "metadata": {
        "id": "X1UGsRpW-eQs"
      },
      "source": [
        "### Grading Information (c/o Lab Instructor)\n",
        "\n",
        "TOTAL SCORE: **XX**/100\n",
        "\n",
        "Score breakdown:\n",
        "* Problem 1 - XX/30\n",
        "* Problem 2 - XX/30\n",
        "* Problem 3 - XX/40\n",
        "\n",
        "_Date and Time Scored (MM/DD/YYYY HH:MM AM/PM):_"
      ]
    },
    {
      "cell_type": "markdown",
      "metadata": {
        "id": "LxWuqiCFMsEh"
      },
      "source": [
        "### PROBLEM 1\n",
        "**Integration using the trapezoidal rule and Simpson's rule**\n",
        "\n",
        "Calculate the integral of the function $ 2x^4 + 3x^2 + 4x + 5$ from $x=0$ to $x=5$.\n",
        "\n",
        "1. Do the numerical calculation using the trapezoidal rule with 10, 100, and 1,000 slices. Describe each step of the calculation clearly and concisely. *(10 pts.)*\n",
        "\n",
        "2. What are the percentage errors of your answers in (1)? *(10 pts.)*\n",
        "\n",
        "3. Repeat the calculation using Simpson's rule with 10, 100, and 1,000 slices. Describe each step of the calculation clearly and concisely. *(5 pts.)*\n",
        "\n",
        "4. What are the percentage errors of your answers in (3)? How do they compare with the results from (1) for the same number of slices? *(5 pts.)*"
      ]
    },
    {
      "cell_type": "code",
      "source": [
        "## Problem 1\n",
        "import numpy as np # Call Numpy to access its functions such as arrays\n",
        "def f(x): # Define the function in the problem\n",
        "  return 2*x**4 + 3*x**2 + 4*x + 5\n",
        "\n",
        "def integ_trape(N, a, b): # we define the trapezoidal rule as a function\n",
        "  h = (b-a)/N # we define this as the width\n",
        "  s = 0.5*f(a) + 0.5*f(b) # the initial value of s\n",
        "  for k in range (1,N): # we define the summation using a loop defined by N slices\n",
        "    s += f(a+k*h)\n",
        "  return(h*s) # we get the value of the integration using trapezoidal rule\n",
        "\n",
        "def integ_simp(N, a, b): # we define the trapezoidal rule as a function\n",
        "  h = (b-a)/N\n",
        "\n",
        "  s = f(a) + f(b) # we define the intial values of s\n",
        "  for k in range (1,N,2): # loops over the odd values of k\n",
        "    s += 4*f(a+k*h)\n",
        "  for k in range (2,N,2): # loops over the even values of k\n",
        "    s += 2*f(a+k*h)\n",
        "  w = s*(1./3)*h # multiply 1/3 width with the value we got for s\n",
        "  return(w) # we get the value of the integration using simpson's rule\n",
        "\n",
        "N_arr = np.array([10, 100, 1000]) # we put the number of slices in an array\n",
        "a = 0.0 # lower bound of integration\n",
        "b = 5.0 # upper bound of integration\n",
        "\n",
        "# we initialize the values for the integration using zero arrays\n",
        "s_arr = np.zeros(len(N_arr)) # we make an zero array with the equal amount of elements to the slices array using len(function)\n",
        "pct_arr = np.zeros(len(N_arr))\n",
        "exact_I = 1450 # we set exact integration value for the given problem\n",
        "\n",
        "for i in np.arange(len(N_arr)): # we iterate over the elements in the slices array using their indexes\n",
        "  s_arr[i] = integ_trape(N_arr[i], a, b) # for the 0th element of array s_array(integration) we use the 0th element N(slice) then it loops over the remaining elements\n",
        "  pct_arr[i] = (s_arr[i] - exact_I)/exact_I # perform percent error over the different elements of s_array(integration)\n",
        "  print(N_arr[i], s_arr[i], pct_arr[i]) # print the results\n",
        "\n",
        "for i in np.arange(len(N_arr)):\n",
        "  s_arr[i] = integ_simp(N_arr[i], a, b)\n",
        "  pct_arr[i] = (s_arr[i] - exact_I)/exact_I\n",
        "  print(N_arr[i], s_arr[i], pct_arr[i])\n",
        "\n",
        "  # we observe the results to be accurate to the discussion proper with margins in approximation errors\n",
        "  # with a margin factor of 100 per 10 slices for the trapezoidal rule and a margin factor of 10^4 for 10 slices in the simpsons rule\n",
        "  # we also verify the higher accuracy of the simpson's rule given this ingration problem"
      ],
      "metadata": {
        "colab": {
          "base_uri": "https://localhost:8080/"
        },
        "id": "ID4ovKJHb4TA",
        "outputId": "41f15296-a13d-4f99-cc6e-3a94774eecd8"
      },
      "execution_count": 1,
      "outputs": [
        {
          "output_type": "stream",
          "name": "stdout",
          "text": [
            "10 1471.4375 0.01478448275862069\n",
            "100 1450.2145812500003 0.00014798706896569988\n",
            "1000 1450.0021458331234 1.4798849127240327e-06\n",
            "10 1450.0833333333333 5.7471264367763824e-05\n",
            "100 1450.0000083333337 5.747126657485657e-09\n",
            "1000 1450.0000000008342 5.753338035870472e-13\n"
          ]
        }
      ]
    },
    {
      "cell_type": "markdown",
      "metadata": {
        "id": "m2a6sg90R-NX"
      },
      "source": [
        "### PROBLEM 2\n",
        "\n",
        "**Integration using Gaussian quadrature**\n",
        "\n",
        "Calculate the integral from Problem 1 using the Gaussian quadrature method: $ 2x^4 + 3x^2 + 4x + 5$ from $x=0$ to $x=5$.\n",
        "\n",
        "1. Define the function $\\tt gaussxw$ from Appendix E of the Newman text (and run the cell). *(10 pts.)*\n",
        "\n",
        "2. Calculate the integral using the $\\tt gaussxw$ function in (1) and number of slices $N = 3$. Describe each step in the calculation clearly and concisely. *(20 pts.)*"
      ]
    },
    {
      "cell_type": "code",
      "metadata": {
        "id": "YO_PDJ4VIVs5",
        "colab": {
          "base_uri": "https://localhost:8080/"
        },
        "outputId": "f6dace13-a2ba-4497-ca0d-7bbf0d278d8c"
      },
      "source": [
        "import numpy as np\n",
        "\n",
        "def gaussxw(N):\n",
        "  # Initial approximation to roots of the Legendre polynomial\n",
        "  a = np.linspace(3,4*N-1,N)/(4*N+2) # we first define an array with equalized spaced points from 3 to 4*N-1 with N number of points\n",
        "                                     # these points are then normalized by dividing each point by (4*N+2)\n",
        "  x = np.cos(np.pi*a+1/(8*N*N*np.tan(a))) # we further refine these approximation by plugging in the previous array into a cos() function\n",
        "                                          # considering that for large N, the legendre polynomials behaves similarly additionally multiplying it to pi.\n",
        "                                          # we include + 1/(8*N^2*tan(a)) as an additional correction factor for better approximation\n",
        "\n",
        "  # Find roots using Newton's method\n",
        "  epsilon = 1e-15   # we first declare a small enough epsilon value\n",
        "  delta = 1.0       # and a delta value initialized at 1\n",
        "  while delta > epsilon: # this iteration will keep on continuing until delta is greater than epsilon\n",
        "    p0 = np.ones(N,float) # we initialize the value of P0 in the legendre recurrence formula as an array filled with 1s\n",
        "                          # note that we also designate these values as floats\n",
        "    p1 = np.copy(x) # we intiliaze the value of p1 in the legendre recurrence formula as an array\n",
        "                    # that copies the value of the array after one iteration\n",
        "    for k in range(1,N): # this declares to how many degrees of N polynomial the program wants you to evaluate\n",
        "      p0,p1 = p1, ((2*k+1)*x*p1-k*p0)/(k+1) # from the legendre recurrence relation formula we derive this equation\n",
        "                                            # this for loop lets p0 hold the value for Pk-1 and p1 holds the value for Pk\n",
        "                                            # which are used to compute for the Pk+1\n",
        "                                            # after each interation p0 becomes Pn and p1 becomes Pn+1 which is the new polynomial\n",
        "                                            # for the next iteration p0 then becomes Pn-1 and p1 becomes Pn to be used to compute\n",
        "                                            # for the new Pn+1 or used to compute for the derivative of the legendre formula\n",
        "    dp = (N+1)*(p0-x*p1)/(1-x*x) # we get the derivative of our legendre polynomial using a known formula\n",
        "                                 # we use the values p0 and p1 we got from the loop into the formula\n",
        "    dx = p1/dp # then we utilize newton's method by dividing our p1 polynomial with its derivative\n",
        "    x -= dx # we then subtract this value from the initial iteration of x and we get its new value\n",
        "    delta = max(abs(dx))\n",
        "\n",
        "  # Calculate the weights\n",
        "  w = 2*(N+1)*(N+1)/(N*N*(1-x*x)*dp*dp) # we calculate the weight function of the legendre polynomial using this formula\n",
        "\n",
        "  return x,w # we return the value of the weight function and the values for the best fitted legendre polynomial\n",
        "\n",
        "def f(x):\n",
        "  return 2*x**4 + 3*x**2 + 4*x + 5 # we define the function that wants to be solved\n",
        "\n",
        "# initialize the values\n",
        "N = 3 # number of slices\n",
        "a = 0.0 # lower bound of the integral\n",
        "b = 5.0 # upper bound of the integral\n",
        "\n",
        "# Calculate the sample points and weights, then map them\n",
        "# to the required integration domain\n",
        "x,w = gaussxw(N)\n",
        "# we rescales the samples points and weights of the given domain\n",
        "xp = 0.5*(b-a)*x + 0.5*(b+a) #\n",
        "wp = 0.5*(b-a)*w\n",
        "\n",
        "# Perform the integration\n",
        "s = 0.0 # We initilize the value of the integration as zero\n",
        "for k in range(N): # For loop summation for the integral\n",
        "  s += wp[k]*f(xp[k]) # We calculate the summation in order to get the approximation of the integral\n",
        "\n",
        "print(s)"
      ],
      "execution_count": 2,
      "outputs": [
        {
          "output_type": "stream",
          "name": "stdout",
          "text": [
            "1450.000000000002\n"
          ]
        }
      ]
    },
    {
      "cell_type": "code",
      "source": [
        "import numpy as np\n",
        "import matplotlib.pyplot as plt\n",
        "\n",
        "\n",
        "# Initial approximation to roots of the Legendre polynomial\n",
        "N = 50\n",
        "y = np.zeros(N)\n",
        "a = np.linspace(3,4*N-1,N)/(4*N+2)\n",
        "x = np.cos(np.pi*a+1/(8*N*N*np.tan(a)))\n",
        "plt.plot(x, y, 'o')\n",
        "plt.show()\n",
        "\n",
        "# Just wanted to see the behavior of the approximation initialized in the problem"
      ],
      "metadata": {
        "colab": {
          "base_uri": "https://localhost:8080/",
          "height": 430
        },
        "id": "MijpYJFiFM5Q",
        "outputId": "29a794f6-671a-43da-d701-4bf51b9a5bf7"
      },
      "execution_count": null,
      "outputs": [
        {
          "output_type": "display_data",
          "data": {
            "text/plain": [
              "<Figure size 640x480 with 1 Axes>"
            ],
            "image/png": "[encoded data removed]"
          },
          "metadata": {}
        }
      ]
    },
    {
      "cell_type": "markdown",
      "metadata": {
        "id": "HceOjNu-VfN9"
      },
      "source": [
        "### PROBLEM 3\n",
        "\n",
        "**Physics Application: Anharmonic Oscillator**\n",
        "\n",
        "_Refer to Exercise 5.10 of the Newman text._ Consider an anharmonic oscillator with potential $V(x)$ symmetric about $x = 0$. Let us set our anharmonic oscillator going with amplitude $a$. That is, at $t = 0$ we release it from rest at position $x = a$ and it swings back towards the origin. Then at $t = 0$ we have $dx/dt = 0$ and the equation for its total energy becomes $E = V(a)$, i.e., the total energy of the particle is given in terms of the amplitude.\n",
        "\n",
        "When the particle reaches the origin for the first time, it has gone through one quarter of a period of the oscillator. The period $T$ is given by: $$ T = \\sqrt{8m} \\int_0^a \\frac{dx}{\\sqrt{V(a)-V(x)}}. $$\n",
        "\n",
        "1. Suppose the potential is $V(x) = x^4$ and the mass of the particle is $m = 1$. Write a Python function that calculates the period of the oscillator for given amplitude a using Gaussian quadrature with $N = 20$ points. Describe each step clearly and concisely. *(20 pts.)*\n",
        "\n",
        "2. Use your function to make a graph of the period for amplitudes ranging from $a = 0$ to $a = 2$. Describe the behavior you find and explain these results clearly and concisely. *(20 pts.)*"
      ]
    },
    {
      "cell_type": "code",
      "metadata": {
        "id": "p28JF-OQYock",
        "colab": {
          "base_uri": "https://localhost:8080/",
          "height": 472
        },
        "outputId": "570ed133-9f6c-4c3d-adfc-00d08e379e03"
      },
      "source": [
        "import matplotlib.pyplot as plt\n",
        "import math\n",
        "import numpy as np\n",
        "\n",
        "def gaussxw(N):\n",
        "  # Initial approximation to roots of the Legendre polynomial\n",
        "  a = np.linspace(3,4*N-1,N)/(4*N+2)\n",
        "  x = np.cos(np.pi*a+1/(8*N*N*np.tan(a)))\n",
        "\n",
        "  # Find roots using Newton's method\n",
        "  epsilon = 1e-15\n",
        "  delta = 1.0\n",
        "  while delta > epsilon:\n",
        "    p0 = np.ones(N,float)\n",
        "    p1 = np.copy(x)\n",
        "    for k in range(1,N):\n",
        "      p0,p1 = p1, ((2*k+1)*x*p1-k*p0)/(k+1)\n",
        "    dp = (N+1)*(p0-x*p1)/(1-x*x)\n",
        "    dx = p1/dp\n",
        "    x -= dx\n",
        "    delta = max(abs(dx))\n",
        "\n",
        "  # Calculate the weights\n",
        "  w = 2*(N+1)*(N+1)/(N*N*(1-x*x)*dp*dp)\n",
        "\n",
        "  return x,w\n",
        "\n",
        "def V(x): # We define the potential function V(x) as v = x^4\n",
        "  return x**4\n",
        "\n",
        "def integrand(x, a): # we define the integration portion of the period in terms of V(a) and V(x)\n",
        "  return 1/math.sqrt(V(a)-V(x))\n",
        "\n",
        "# We define the initial conditions\n",
        "N = 20 # number of slices\n",
        "m = 1 # mass\n",
        "# lower bound a cannot be defined as zero because x and a cannot be both zero or it will be undefined\n",
        "a = 2.0 # upper bound of applitude\n",
        "\n",
        "# we define the period\n",
        "def T(a, N):\n",
        "  # we approximate the integral t using guassian quadrature\n",
        "  x, w = gaussxw(N)\n",
        "  xp = 0.5*(a)*x + 0.5*(a) # We rescale the sample points and weight for the given domain\n",
        "  wp = 0.5*(a)*w\n",
        "  # performing the summation\n",
        "  s = 0\n",
        "  for k in range(1, N):\n",
        "    s += wp[k]*integrand(xp[k],a)\n",
        "  # multiplying the integral with the square root of 8m to get T\n",
        "  return math.sqrt(8*m)*s\n",
        "\n",
        "# Plotting Period(T) vs Amplitude(a)\n",
        "N_graph = 100   # number of points\n",
        "a_points = np.zeros(N_graph) # amplitude as x-axis\n",
        "T_points = np.zeros(N_graph) # period as y-axis\n",
        "\n",
        "for i in range(N_graph):\n",
        "  a_points[i] = a/N_graph * (i+1) # we iterate over the values in the array given the N_graph # of points. NOTE: we don't include 0\n",
        "for i in range(N_graph):\n",
        "  T_points[i] = T(a_points[i], N) # we iterate over the values in the array given the N_graph # of points\n",
        "# we define the plots\n",
        "plt.plot(a_points, T_points)\n",
        "# we define the labels\n",
        "plt.title(\"Period(T) Vs Amplitude(a)\")\n",
        "plt.xlabel(\"Amplitude, a\")\n",
        "plt.ylabel(\"period, T\")\n",
        "plt.grid() # we show a grid for better reference\n",
        "plt.show() # we show the graph\n",
        "\n",
        "# we expect as we reach high values of a, the a term in the integration of the period would resemble a triangle with height 1 and base a\n",
        "# thus we would be able to predict how the function would look like. In the case of a potential function of V(x) = x^4 we would expect a graph\n",
        "# resembling the behavior of 1/x. thus confirming the validity of our numerical calculation\n",
        "\n",
        "# an important case for discussion dis also the correlation between amplitude and period\n",
        "# in a normal harmonic oscillator in ideal conditions, amplitude has no effect on the oscillators period\n",
        "# however in the case of the anharmonic oscillator, we could observe that as the amplitude increases, there is also an increase in period"
      ],
      "execution_count": 3,
      "outputs": [
        {
          "output_type": "display_data",
          "data": {
            "text/plain": [
              "<Figure size 640x480 with 1 Axes>"
            ],
            "image/png": "[encoded data removed]"
          },
          "metadata": {}
        }
      ]
    }
  ]
}